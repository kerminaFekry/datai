{
 "cells": [
  {
   "cell_type": "code",
   "execution_count": 1,
   "id": "af65c9f6",
   "metadata": {},
   "outputs": [
    {
     "name": "stdout",
     "output_type": "stream",
     "text": [
      "enter the number of years\n",
      "1.5\n",
      "47304000.0\n"
     ]
    }
   ],
   "source": [
    "print(\"enter the number of years\")\n",
    "y=input() \n",
    "def number_of_seconds(year) :\n",
    "    seconds= year*365*24*60*60\n",
    "    return seconds \n",
    "answer= print(number_of_seconds(float(y))) "
   ]
  },
  {
   "cell_type": "code",
   "execution_count": 2,
   "id": "d42bc281",
   "metadata": {},
   "outputs": [
    {
     "name": "stdout",
     "output_type": "stream",
     "text": [
      "enter the temperature in fehrehait\n",
      "-50\n",
      "-45.551\n"
     ]
    }
   ],
   "source": [
    "print(\"enter the temperature in fehrehait\")\n",
    "temp_in_fehrenhait = input()\n",
    "def convert_to_C (temp):\n",
    "    temp_in_C=(temp -32)*.5555\n",
    "    return temp_in_C\n",
    "answer=print(convert_to_C (float(temp_in_fehrenhait)))"
   ]
  },
  {
   "cell_type": "code",
   "execution_count": 3,
   "id": "1a55571e",
   "metadata": {},
   "outputs": [
    {
     "name": "stdout",
     "output_type": "stream",
     "text": [
      "enter the words\n",
      "1\n",
      "2\n",
      "4\n",
      "5\n",
      "6\n",
      "your story is 1 2 4 5 6\n"
     ]
    }
   ],
   "source": [
    "print (\"enter the words\")\n",
    "first=input()\n",
    "second=input()\n",
    "third=input()\n",
    "fourth=input()\n",
    "fifth=input()\n",
    "answer=\"your story is \"+first+\" \"+second+\" \"+third+\" \"+fourth+\" \"+fifth\n",
    "print (answer)"
   ]
  },
  {
   "cell_type": "code",
   "execution_count": null,
   "id": "8a506577",
   "metadata": {},
   "outputs": [],
   "source": []
  }
 ],
 "metadata": {
  "kernelspec": {
   "display_name": "Python 3",
   "language": "python",
   "name": "python3"
  },
  "language_info": {
   "codemirror_mode": {
    "name": "ipython",
    "version": 3
   },
   "file_extension": ".py",
   "mimetype": "text/x-python",
   "name": "python",
   "nbconvert_exporter": "python",
   "pygments_lexer": "ipython3",
   "version": "3.8.8"
  }
 },
 "nbformat": 4,
 "nbformat_minor": 5
}
